{
 "cells": [
  {
   "cell_type": "markdown",
   "metadata": {},
   "source": [
    "# Klasterizavimas.  K-vidurkių metodas\n",
    "## _Apache Spark Mllib KMeans_"
   ]
  },
  {
   "cell_type": "markdown",
   "metadata": {},
   "source": [
    "### 1 pavyzdys\n",
    "\n",
    "#### CA1 duomenų failas"
   ]
  },
  {
   "cell_type": "markdown",
   "metadata": {},
   "source": [
    "Šiame pavyzdyje paprastumo dėlei naudosime $\\mathbb{R}^2$ erdvės duomenis."
   ]
  },
  {
   "cell_type": "markdown",
   "metadata": {},
   "source": [
    "Konvertuojame _MS Excel_ `.xls` formato failą į `.csv` formato failą."
   ]
  },
  {
   "cell_type": "code",
   "execution_count": 39,
   "metadata": {
    "collapsed": false
   },
   "outputs": [],
   "source": [
    "! in2csv --sheet \"CA1\" data/CA1.xls > data/CA1.csv"
   ]
  },
  {
   "cell_type": "markdown",
   "metadata": {},
   "source": [
    "Išvedame failo pirmąją eilutę, t.y. stulpelių pavadinimus."
   ]
  },
  {
   "cell_type": "code",
   "execution_count": 44,
   "metadata": {
    "collapsed": false
   },
   "outputs": [
    {
     "name": "stdout",
     "output_type": "stream",
     "text": [
      "ID,X,Y,klasteris\r\n"
     ]
    }
   ],
   "source": [
    "! head -n 1 data/CA1.csv"
   ]
  },
  {
   "cell_type": "markdown",
   "metadata": {},
   "source": [
    "Įkeliame `.csv` formato duomenų failą. Įkėlimo metu galime pakeisti stulpelių pavadinimus naudodami `pyspark.sql.DataFrame` metodą `withColumnRenamed` arba iš įkelto `pyspark.sql.DataFrame` gauti `RDD` (`pyspark.sql.DataFrame` atributas `rdd`) ir vėl paversti į `pyspark.sql.DataFrame` panaudojant `RDD` metodą `toDF` su naujų stulpelių pavadinimų sąrašo argumentu."
   ]
  },
  {
   "cell_type": "code",
   "execution_count": 40,
   "metadata": {
    "collapsed": false
   },
   "outputs": [
    {
     "name": "stdout",
     "output_type": "stream",
     "text": [
      "+---+------------+------------+-------+\n",
      "| id|           x|           y|cluster|\n",
      "+---+------------+------------+-------+\n",
      "|  1|-0.485694686| 2.075174209|      1|\n",
      "|  2|  -0.3682471| 2.037708135|      2|\n",
      "|  3|-1.409078419|-1.371631094|      3|\n",
      "|  4|-1.434896397|-1.959709476|      4|\n",
      "|  5| 3.706690333|-0.803240913|      5|\n",
      "+---+------------+------------+-------+\n",
      "only showing top 5 rows\n",
      "\n"
     ]
    }
   ],
   "source": [
    "ca1DF = (\n",
    "    sqlContext.read.load(\"data/CA1.csv\", format=\"com.databricks.spark.csv\", header=True, inferSchema=True)\n",
    "    # .withColumnRenamed(\"ID\", \"id\")\n",
    "    # .withColumnRenamed(\"X\", \"x\")\n",
    "    # .withColumnRenamed(\"Y\", \"y\")\n",
    "    # .withColumnRenamed(\"klasteris\", \"cluster\")\n",
    "    .rdd.toDF([\"id\", \"x\", \"y\", \"cluster\"])\n",
    ")\n",
    "\n",
    "ca1DF.show(5)"
   ]
  },
  {
   "cell_type": "markdown",
   "metadata": {},
   "source": [
    "Importuojame _Apache Spark Mllib_ K-vidurkių klasteriavimo klasę ir vektorių klasę."
   ]
  },
  {
   "cell_type": "code",
   "execution_count": 41,
   "metadata": {
    "collapsed": true
   },
   "outputs": [],
   "source": [
    "from pyspark.mllib.clustering import KMeans\n",
    "from pyspark.mllib.linalg import DenseVector"
   ]
  },
  {
   "cell_type": "markdown",
   "metadata": {},
   "source": [
    "Pamename, kad `pyspark.sql.DataFrame` atributo `rdd` reikšmė `pyspark.sql.Row` tipo objektų `RDD` objektas:"
   ]
  },
  {
   "cell_type": "code",
   "execution_count": 46,
   "metadata": {
    "collapsed": false
   },
   "outputs": [
    {
     "data": {
      "text/plain": [
       "[Row(id=1, x=-0.485694686, y=2.075174209, cluster=1),\n",
       " Row(id=2, x=-0.3682471, y=2.037708135, cluster=2),\n",
       " Row(id=3, x=-1.409078419, y=-1.371631094, cluster=3),\n",
       " Row(id=4, x=-1.434896397, y=-1.959709476, cluster=4),\n",
       " Row(id=5, x=3.706690333, y=-0.803240913, cluster=5)]"
      ]
     },
     "execution_count": 46,
     "metadata": {},
     "output_type": "execute_result"
    }
   ],
   "source": [
    "ca1DF.rdd.take(5)"
   ]
  },
  {
   "cell_type": "markdown",
   "metadata": {},
   "source": [
    "`pyspark.mllib` paketas yra pritaikytas dirbti su `RDD` tipo objektais, todėl iš turimo `pyspark.sql.DataFrame` sudarome požymių `RDD` iš `x` ir `y` stulpelių. "
   ]
  },
  {
   "cell_type": "code",
   "execution_count": 47,
   "metadata": {
    "collapsed": false
   },
   "outputs": [
    {
     "data": {
      "text/plain": [
       "[DenseVector([-0.4857, 2.0752]),\n",
       " DenseVector([-0.3682, 2.0377]),\n",
       " DenseVector([-1.4091, -1.3716]),\n",
       " DenseVector([-1.4349, -1.9597]),\n",
       " DenseVector([3.7067, -0.8032])]"
      ]
     },
     "execution_count": 47,
     "metadata": {},
     "output_type": "execute_result"
    }
   ],
   "source": [
    "featuresRDD = ca1DF.rdd.map(lambda row: DenseVector([row.x, row.y]))\n",
    "featuresRDD.take(5)"
   ]
  },
  {
   "cell_type": "markdown",
   "metadata": {},
   "source": [
    "Parenkame parametrą $k=2$ ir apmokome pirmą K-vidurkių modelį. `pyspark.mllib.clustering.KMeans` metodo `train` argumentų paaiškinimas yra [čia](http://spark.apache.org/docs/latest/api/python/pyspark.mllib.html?highlight=mllib%20kmeans#pyspark.mllib.clustering.KMeans)."
   ]
  },
  {
   "cell_type": "code",
   "execution_count": 48,
   "metadata": {
    "collapsed": true
   },
   "outputs": [],
   "source": [
    "firstModel = KMeans.train(\n",
    "    featuresRDD, k=2, maxIterations=10, \n",
    "    runs=10, initializationMode=\"k-means||\", seed=1)"
   ]
  },
  {
   "cell_type": "markdown",
   "metadata": {},
   "source": [
    "Apmokyto modelio klasterių centrus galime pasiekti per modelio (kurio tipas `pyspark.mllib.clustering.KMeansModel`) atributą `centers`:"
   ]
  },
  {
   "cell_type": "code",
   "execution_count": 55,
   "metadata": {
    "collapsed": false
   },
   "outputs": [
    {
     "data": {
      "text/plain": [
       "pyspark.mllib.clustering.KMeansModel"
      ]
     },
     "execution_count": 55,
     "metadata": {},
     "output_type": "execute_result"
    }
   ],
   "source": [
    "type(firstModel)"
   ]
  },
  {
   "cell_type": "code",
   "execution_count": 56,
   "metadata": {
    "collapsed": false
   },
   "outputs": [
    {
     "data": {
      "text/plain": [
       "[array([-0.92282928,  0.20079515]), array([ 3.69629649, -0.80680897])]"
      ]
     },
     "execution_count": 56,
     "metadata": {},
     "output_type": "execute_result"
    }
   ],
   "source": [
    "firstModel.centers"
   ]
  },
  {
   "cell_type": "markdown",
   "metadata": {},
   "source": [
    "`pyspark.mllib.clustering.KMeansModel` metodas `computeCost` apskaičiuoja stebėjimų Euklido atstumų nuo savo klasterių  centrų sumą $S_K$ (angl. _Within Set Sum of Squared Error (WSSSE)_):\n",
    "\n",
    "$I_k = \\sum_{\\mathbf{x}_i \\in C_k} \\| \\mathbf{x}_i - \\mathbf{\\overline{x}}_k \\|$\n",
    "\n",
    "$S_K = \\sum_{k}^{K} I_k$\n",
    "\n",
    "čia \n",
    "\n",
    "$k$ - klasterio indeksas,\n",
    "\n",
    "$C_k$ - $k$-asis klasteris\n",
    "\n",
    "$K$ - klasterių skaičius,\n",
    "\n",
    "$N_k$ - $k$-jam klasteriui priklausančių stebėjimų skaičius,\n",
    "\n",
    "$\\mathbf{x_i}$ - $i$-tojo stebėjimo vektorius,\n",
    "\n",
    "$\\mathbf{\\overline{x}}_k$ - $k$-otojo klasterio vidurinio taško (centro) vektorius,\n",
    "\n",
    "$\\|\\mathbf{x}\\|$ - vektoriaus Euklido norma, t.y. kvadratinė šaknis iš jo komponenčių kvadratų sumos."
   ]
  },
  {
   "cell_type": "code",
   "execution_count": 57,
   "metadata": {
    "collapsed": false
   },
   "outputs": [
    {
     "data": {
      "text/plain": [
       "1504.98682886255"
      ]
     },
     "execution_count": 57,
     "metadata": {},
     "output_type": "execute_result"
    }
   ],
   "source": [
    "firstModel.computeCost(featuresRDD)"
   ]
  },
  {
   "cell_type": "markdown",
   "metadata": {},
   "source": [
    "* * *\n",
    "**_Pastaba:_** $S_K$ galime apskaičiuoti ir patys:"
   ]
  },
  {
   "cell_type": "code",
   "execution_count": 60,
   "metadata": {
    "collapsed": false
   },
   "outputs": [
    {
     "data": {
      "text/plain": [
       "1504.9868288625503"
      ]
     },
     "execution_count": 60,
     "metadata": {},
     "output_type": "execute_result"
    }
   ],
   "source": [
    "featuresRDD.map(lambda point: point.squared_distance(firstModel.centers[firstModel.predict(point)])).sum()"
   ]
  },
  {
   "cell_type": "markdown",
   "metadata": {},
   "source": [
    "Aiškumo dėlei išskaidome šią išraišką į keletą funkcijų:"
   ]
  },
  {
   "cell_type": "code",
   "execution_count": 63,
   "metadata": {
    "collapsed": true
   },
   "outputs": [],
   "source": [
    "def computeWSSSE(vectorRDD, model):\n",
    "    return vectorRDD.map(lambda point: squaredDistance(point, model)).sum()\n",
    "\n",
    "def squaredDistance(point, kmeansModel):\n",
    "    center = kmeansModel.centers[kmeansModel.predict(point)]\n",
    "    return point.squared_distance(center)"
   ]
  },
  {
   "cell_type": "code",
   "execution_count": 64,
   "metadata": {
    "collapsed": false
   },
   "outputs": [
    {
     "data": {
      "text/plain": [
       "1504.9868288625503"
      ]
     },
     "execution_count": 64,
     "metadata": {},
     "output_type": "execute_result"
    }
   ],
   "source": [
    "computeWSSSE(featuresRDD, firstModel)"
   ]
  },
  {
   "cell_type": "markdown",
   "metadata": {},
   "source": [
    "\n",
    "* * *"
   ]
  },
  {
   "cell_type": "markdown",
   "metadata": {},
   "source": [
    "Modelio parametrą $K = 2$ parinkome intuityviai, tačiau ar galime vien iš šios metrikos pasakyti ar tai optimali $K$ reikšmė?"
   ]
  },
  {
   "cell_type": "markdown",
   "metadata": {},
   "source": [
    "Kadangi naudojame $\\mathbb{R}^2$ duomenis, nubraižysime sklaidos diagramą. Grafikų braižymui naudosime [_R_](https://www.r-project.org/) paketo [`ggplot2`](http://docs.ggplot2.org/) _Python_ atitikmenį [`ggplot`](http://ggplot.yhathq.com/).\n",
    "\n",
    "Pirmiausia prie turimų stebėjimų prijungsime ką tik apmokyto modelio prognozuojamų klasterių indeksus."
   ]
  },
  {
   "cell_type": "markdown",
   "metadata": {},
   "source": [
    "Sukuriame naują `pyspark.sql.Row` klasę su atitinkamias stulpelių pavadinimais."
   ]
  },
  {
   "cell_type": "code",
   "execution_count": 49,
   "metadata": {
    "collapsed": true
   },
   "outputs": [],
   "source": [
    "from pyspark.sql import Row\n",
    "\n",
    "predRow = Row(\"id\", \"x\", \"y\", \"prediction\")"
   ]
  },
  {
   "cell_type": "markdown",
   "metadata": {},
   "source": [
    "Naudodami apmokytą modelį atliekame stebėjimų priklausymo klasteriams prognozavimą ir patogumo dėlei sukuriame naują `pyspark.sql.DataFrame` su prognozavimo rezultatais."
   ]
  },
  {
   "cell_type": "code",
   "execution_count": 52,
   "metadata": {
    "collapsed": false
   },
   "outputs": [
    {
     "data": {
      "text/plain": [
       "[Row(id=1, x=-0.485694686, y=2.075174209, prediction=0),\n",
       " Row(id=2, x=-0.3682471, y=2.037708135, prediction=0),\n",
       " Row(id=3, x=-1.409078419, y=-1.371631094, prediction=0),\n",
       " Row(id=4, x=-1.434896397, y=-1.959709476, prediction=0),\n",
       " Row(id=5, x=3.706690333, y=-0.803240913, prediction=1),\n",
       " Row(id=6, x=-0.488402521, y=2.076363672, prediction=0),\n",
       " Row(id=7, x=-0.365141811, y=2.053486526, prediction=0),\n",
       " Row(id=8, x=-1.403284478, y=-1.387871943, prediction=0),\n",
       " Row(id=9, x=-1.443300554, y=-1.940563955, prediction=0),\n",
       " Row(id=10, x=3.692759351, y=-0.811397504, prediction=1)]"
      ]
     },
     "execution_count": 52,
     "metadata": {},
     "output_type": "execute_result"
    }
   ],
   "source": [
    "ca1WithPredRDD = ca1DF.rdd.map(lambda r: predRow(r.id, r.x, r.y, firstModel.predict(DenseVector([r.x, r.y]))))\n",
    "ca1WithPredRDD.take(10)"
   ]
  },
  {
   "cell_type": "markdown",
   "metadata": {},
   "source": [
    "Iš `RDD` objekto sukuriame `pyspark.sql.DataFrame` objektą."
   ]
  },
  {
   "cell_type": "code",
   "execution_count": 53,
   "metadata": {
    "collapsed": false
   },
   "outputs": [
    {
     "name": "stdout",
     "output_type": "stream",
     "text": [
      "+---+------------+------------+----------+\n",
      "| id|           x|           y|prediction|\n",
      "+---+------------+------------+----------+\n",
      "|  1|-0.485694686| 2.075174209|         0|\n",
      "|  2|  -0.3682471| 2.037708135|         0|\n",
      "|  3|-1.409078419|-1.371631094|         0|\n",
      "|  4|-1.434896397|-1.959709476|         0|\n",
      "|  5| 3.706690333|-0.803240913|         1|\n",
      "|  6|-0.488402521| 2.076363672|         0|\n",
      "|  7|-0.365141811| 2.053486526|         0|\n",
      "|  8|-1.403284478|-1.387871943|         0|\n",
      "|  9|-1.443300554|-1.940563955|         0|\n",
      "| 10| 3.692759351|-0.811397504|         1|\n",
      "+---+------------+------------+----------+\n",
      "only showing top 10 rows\n",
      "\n"
     ]
    }
   ],
   "source": [
    "ca1WithPredDF = ca1WithPredRDD.toDF()\n",
    "ca1WithPredDF.show(10)"
   ]
  },
  {
   "cell_type": "markdown",
   "metadata": {},
   "source": [
    "Klasterio indeksai atitinka klasterio centrų indeksus:"
   ]
  },
  {
   "cell_type": "code",
   "execution_count": 27,
   "metadata": {
    "collapsed": false
   },
   "outputs": [
    {
     "data": {
      "text/plain": [
       "[(0, array([-0.92282928,  0.20079515])),\n",
       " (1, array([ 3.69629649, -0.80680897]))]"
      ]
     },
     "execution_count": 27,
     "metadata": {},
     "output_type": "execute_result"
    }
   ],
   "source": [
    "list(enumerate(firstModel.centers))"
   ]
  },
  {
   "cell_type": "markdown",
   "metadata": {},
   "source": [
    "_Python_ `ggplot` paketas naudoja _Python_ `pandas` paketo duomenų rinkinius `pandas.DataFrame`. Iškvietus _Apache Spark_ `pyspark.sql.DataFrame` metodą `toPandas` gauname `pandas.DataFrame` objektą kurį naudojame sklaidos diagramos braižymui."
   ]
  },
  {
   "cell_type": "code",
   "execution_count": 58,
   "metadata": {
    "collapsed": false
   },
   "outputs": [],
   "source": [
    "# grafikų braižymui Jupyter Notebook ląstelėse\n",
    "%matplotlib inline\n",
    "import ggplot as gg"
   ]
  },
  {
   "cell_type": "code",
   "execution_count": 59,
   "metadata": {
    "collapsed": false
   },
   "outputs": [
    {
     "data": {
      "image/png": "[encoded data removed]",
      "text/plain": [
       "<matplotlib.figure.Figure at 0xa8e2ab8c>"
      ]
     },
     "metadata": {},
     "output_type": "display_data"
    },
    {
     "data": {
      "text/plain": [
       "<ggplot: (-889724560)>"
      ]
     },
     "execution_count": 59,
     "metadata": {},
     "output_type": "execute_result"
    }
   ],
   "source": [
    "gg.ggplot(gg.aes(x=\"x\", y=\"y\", color=\"prediction\"), data=ca1WithPredDF.toPandas()) + gg.geom_point()"
   ]
  },
  {
   "cell_type": "markdown",
   "metadata": {
    "collapsed": true
   },
   "source": [
    "Matome, kad $K = 2$ tikrai nėra optimalus klasterių kiekis. $\\mathbb{R}^2$ atveju galime nubraižyti sklaidos diagramą, tačiau ką daryti $\\mathbb{R}^p$, kai $p > 2$ atveju? \n",
    "Vienas iš būdų yra apmokyti keletą modelių su skirtingomis $K$ reikšmėmis ir juos palyginti pagal iš anksto apsibrėžtų charakteristikų reikšmes."
   ]
  },
  {
   "cell_type": "markdown",
   "metadata": {},
   "source": [
    "Sukuriame funkciją, apmokančią keletą K-vidurkių modelių su nurodytomis $K$ reikšmėmis"
   ]
  },
  {
   "cell_type": "code",
   "execution_count": 5,
   "metadata": {
    "collapsed": true
   },
   "outputs": [],
   "source": [
    "def trainKMeans(featuresRDD, kValues):\n",
    "    res = []\n",
    "    for k in kValues:\n",
    "        model = KMeans.train(\n",
    "            featuresRDD, k, maxIterations=10, \n",
    "            runs=10, initializationMode=\"k-means||\", seed=1)\n",
    "        res.append({\"k\": k, \"SSE\": model.computeCost(featuresRDD), \"model\": model})\n",
    "    return res"
   ]
  },
  {
   "cell_type": "code",
   "execution_count": 91,
   "metadata": {
    "collapsed": true
   },
   "outputs": [],
   "source": [
    "def kmeansWSSSEsByK(featuresRDD, kValues):\n",
    "    return [KMeans.train(featuresRDD, k=k, maxIterations=10, \n",
    "                         runs=10, initializationMode=\"k-means||\", \n",
    "                         seed=1).computeCost(featuresRDD)\n",
    "            for k in kValues]"
   ]
  },
  {
   "cell_type": "code",
   "execution_count": 92,
   "metadata": {
    "collapsed": false
   },
   "outputs": [
    {
     "data": {
      "text/plain": [
       "[1504.98682886255, 0.7903686095224364, 0.09225786640582233]"
      ]
     },
     "execution_count": 92,
     "metadata": {},
     "output_type": "execute_result"
    }
   ],
   "source": [
    "kmeansWSSSEsByK(featuresRDD, [2,4,6])"
   ]
  },
  {
   "cell_type": "markdown",
   "metadata": {},
   "source": [
    "Viena iš galimų charakteristikų nustatyti optimalią $K$ reikšmę yra aprašyta [čia](http://www.ee.columbia.edu/~dpwe/papers/PhamDN05-kmeans.pdf) ir [čia](https://datasciencelab.wordpress.com/2014/01/21/selection-of-k-in-k-means-clustering-reloaded/). Jos reikšmė $f(K)$ apskaičiuojama tokiu būdu:\n",
    "\n",
    "<img src=\"https://datasciencelab.files.wordpress.com/2014/01/fk.png?w=359&h=192\">\n",
    "\n",
    "Optimilaus $K$ yra ties \"alkūnine\" $f(K)$ reikšme."
   ]
  },
  {
   "cell_type": "markdown",
   "metadata": {},
   "source": [
    "Pagal $f(K)$ išraišką matome, kad kiekvienam $K$ reikia turėti ir $S_{K-1}$ reišmes. Sukuriame reikalingas funkcijas."
   ]
  },
  {
   "cell_type": "code",
   "execution_count": 113,
   "metadata": {
    "collapsed": false
   },
   "outputs": [],
   "source": [
    "import collections\n",
    "Pham2004Results = collections.namedtuple(\"Pham2004Results\", [\"ks\", \"fKs\"])\n",
    "\n",
    "def computePham2004(featuresRDD, kValues):\n",
    "    allKs = makeKs(kValues)\n",
    "    WSSSEs = kmeansWSSSEsByK(featuresRDD, allKs)\n",
    "    ksWithPairedWSSSEs = [\n",
    "        (k, WSSSEs[allKs.index(k)], WSSSEs[allKs.index(k - 1)] if k - 1 > 0 else 0) \n",
    "        for k in kValues]\n",
    "    dimension = len(featuresRDD.first())\n",
    "    fKs = [\n",
    "        computeFK(k, Sk, prevSk, dimension) \n",
    "        for (k, Sk, prevSk) in ksWithPairedWSSSEs]\n",
    "    return Pham2004Results(kValues, fKs)\n",
    "\n",
    "def makeKs(initialKs):\n",
    "    allKs = [k - 1 for k in initialKs if k - 1 > 0] + initialKs\n",
    "    return sorted(list(set(allKs)))\n",
    "\n",
    "def computeFK(k, SSE, prevSSE, dim):\n",
    "    if k == 1 or prevSSE == 0:\n",
    "        return 1\n",
    "    weight = weightFactor(k, dim)\n",
    "    return SSE / (weight * dim)\n",
    "\n",
    "def weightFactor(k, dim):\n",
    "    if not k >= 2:\n",
    "        raise ValueError(\"k must be greater than 1\")\n",
    "        \n",
    "    weight = 1 - 3 / (4 * dim)\n",
    "    i = 2\n",
    "    while i < k:\n",
    "        weight_prev = weight\n",
    "        weight = weight_prev + (1 - weight_prev) / 6\n",
    "        i += 1\n",
    "    return weight\n",
    "\n",
    "# tail recursion is not optimized in Python\n",
    "# def weightFactor(k, dim):\n",
    "#     if not k >= 2:\n",
    "#         raise ValueError(\"k should be greater than 1,\")\n",
    "#     k2Weight = 1 - 3 / (4 * dim)\n",
    "#     return weightFactorAccumulator(k2Weight, k)\n",
    "#\n",
    "# def weightFactorAccumulator(acc, k):\n",
    "#     if k == 2:\n",
    "#         return acc\n",
    "#     return weightFactorAccumulator(acc + (1 - acc) / 6, k - 1)"
   ]
  },
  {
   "cell_type": "code",
   "execution_count": 124,
   "metadata": {
    "collapsed": false
   },
   "outputs": [
    {
     "name": "stdout",
     "output_type": "stream",
     "text": [
      "[1, 2, 3, 6]\n",
      "[1, 1203.98946309004, 11.876601791043038, 0.05631281990436629]\n"
     ]
    }
   ],
   "source": [
    "ks, fKs = computePham2004(featuresRDD, [1,2,3,6])\n",
    "print(ks)\n",
    "print(fKs)"
   ]
  },
  {
   "cell_type": "code",
   "execution_count": 135,
   "metadata": {
    "collapsed": false
   },
   "outputs": [],
   "source": [
    "Pham2004Row = Row(\"K\", \"fK\")\n",
    "\n",
    "def makePham2004DF(ks, fKs):\n",
    "    rowContents = list(zip(ks, fKs))\n",
    "    return sc.parallelize(\n",
    "        [Pham2004Row(k, float(fK)) \n",
    "         for (k, fK) in rowContents]).toDF()"
   ]
  },
  {
   "cell_type": "code",
   "execution_count": 138,
   "metadata": {
    "collapsed": false
   },
   "outputs": [
    {
     "name": "stdout",
     "output_type": "stream",
     "text": [
      "+---+-------------------+\n",
      "|  K|                 fK|\n",
      "+---+-------------------+\n",
      "|  1|                1.0|\n",
      "|  2|   1203.98946309004|\n",
      "|  3| 11.876601791043038|\n",
      "|  6|0.05631281990436629|\n",
      "+---+-------------------+\n",
      "\n"
     ]
    }
   ],
   "source": [
    "pham2004DF = makePham2004DF(ks, fKs)\n",
    "pham2004DF.show()"
   ]
  },
  {
   "cell_type": "code",
   "execution_count": 137,
   "metadata": {
    "collapsed": false
   },
   "outputs": [
    {
     "data": {
      "image/png": "[encoded data removed]",
      "text/plain": [
       "<matplotlib.figure.Figure at 0xa8dc41ec>"
      ]
     },
     "metadata": {},
     "output_type": "display_data"
    },
    {
     "data": {
      "text/plain": [
       "<ggplot: (-896663610)>"
      ]
     },
     "execution_count": 137,
     "metadata": {},
     "output_type": "execute_result"
    }
   ],
   "source": [
    "gg.ggplot(gg.aes(x=\"K\", y=\"fK\"), data=pham2004DF.toPandas()) + gg.geom_line()"
   ]
  },
  {
   "cell_type": "code",
   "execution_count": 140,
   "metadata": {
    "collapsed": false
   },
   "outputs": [
    {
     "name": "stdout",
     "output_type": "stream",
     "text": [
      "+---+-------------------+\n",
      "|  K|                 fK|\n",
      "+---+-------------------+\n",
      "|  3| 11.876601791043038|\n",
      "|  6|0.05631281990436629|\n",
      "+---+-------------------+\n",
      "\n"
     ]
    }
   ],
   "source": [
    "pham2004DF.where(pham2004DF[\"K\"] > 2).show()"
   ]
  },
  {
   "cell_type": "code",
   "execution_count": 139,
   "metadata": {
    "collapsed": false
   },
   "outputs": [
    {
     "data": {
      "image/png": "[encoded data removed]",
      "text/plain": [
       "<matplotlib.figure.Figure at 0xa8da3d8c>"
      ]
     },
     "metadata": {},
     "output_type": "display_data"
    },
    {
     "data": {
      "text/plain": [
       "<ggplot: (-896686028)>"
      ]
     },
     "execution_count": 139,
     "metadata": {},
     "output_type": "execute_result"
    }
   ],
   "source": [
    "gg.ggplot(gg.aes(x=\"K\", y=\"fK\"), data=pham2004DF.where(pham2004DF[\"K\"] > 2).toPandas()) + gg.geom_line()"
   ]
  },
  {
   "cell_type": "markdown",
   "metadata": {},
   "source": [
    "Parinkime daugiau $K$ reikšmių."
   ]
  },
  {
   "cell_type": "code",
   "execution_count": 142,
   "metadata": {
    "collapsed": false
   },
   "outputs": [
    {
     "name": "stdout",
     "output_type": "stream",
     "text": [
      "+---+-------------------+\n",
      "|  K|                 fK|\n",
      "+---+-------------------+\n",
      "|  2|   1203.98946309004|\n",
      "|  3| 11.876601791043038|\n",
      "|  4| 0.5343337078461542|\n",
      "|  5| 0.0644715434241492|\n",
      "|  6|0.05631281990436629|\n",
      "|  7|0.04988912836653434|\n",
      "+---+-------------------+\n",
      "\n"
     ]
    }
   ],
   "source": [
    "moreKs = [2,3,4,5,6,7]\n",
    "\n",
    "\n",
    "pham2004moreKsDF = makePham2004DF(*computePham2004(featuresRDD, moreKs))\n",
    "pham2004moreKsDF.show()"
   ]
  },
  {
   "cell_type": "code",
   "execution_count": 143,
   "metadata": {
    "collapsed": false
   },
   "outputs": [
    {
     "data": {
      "image/png": "[encoded data removed]",
      "text/plain": [
       "<matplotlib.figure.Figure at 0xa8fb0cec>"
      ]
     },
     "metadata": {},
     "output_type": "display_data"
    },
    {
     "data": {
      "text/plain": [
       "<ggplot: (-896663642)>"
      ]
     },
     "execution_count": 143,
     "metadata": {},
     "output_type": "execute_result"
    }
   ],
   "source": [
    "filteredPham2004moreKsDF = pham2004moreKsDF.where(pham2004moreKsDF[\"K\"] > 3)\n",
    "gg.ggplot(gg.aes(x=\"K\", y=\"fK\"), data=filteredPham2004moreKsDF.toPandas()) + gg.geom_line()"
   ]
  },
  {
   "cell_type": "markdown",
   "metadata": {},
   "source": [
    "$K = 5$ yra optimali reikšmė."
   ]
  }
 ],
 "metadata": {
  "kernelspec": {
   "display_name": "pySpark 1.5.1 (Python 3.4)",
   "language": "python",
   "name": "pyspark"
  },
  "language_info": {
   "codemirror_mode": {
    "name": "ipython",
    "version": 3
   },
   "file_extension": ".py",
   "mimetype": "text/x-python",
   "name": "python",
   "nbconvert_exporter": "python",
   "pygments_lexer": "ipython3",
   "version": "3.4.3"
  }
 },
 "nbformat": 4,
 "nbformat_minor": 0
}
